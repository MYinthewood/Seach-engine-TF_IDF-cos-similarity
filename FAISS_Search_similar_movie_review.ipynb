{
  "nbformat": 4,
  "nbformat_minor": 0,
  "metadata": {
    "colab": {
      "provenance": [],
      "gpuType": "A100",
      "authorship_tag": "ABX9TyMQoD1JChsabmi92C6FPmrL",
      "include_colab_link": true
    },
    "kernelspec": {
      "name": "python3",
      "display_name": "Python 3"
    },
    "language_info": {
      "name": "python"
    },
    "accelerator": "GPU"
  },
  "cells": [
    {
      "cell_type": "markdown",
      "metadata": {
        "id": "view-in-github",
        "colab_type": "text"
      },
      "source": [
        "<a href=\"https://colab.research.google.com/github/MYinthewood/Seach-engine-TF_IDF-cos-similarity/blob/main/FAISS_Search_similar_movie_review.ipynb\" target=\"_parent\"><img src=\"https://colab.research.google.com/assets/colab-badge.svg\" alt=\"Open In Colab\"/></a>"
      ]
    },
    {
      "cell_type": "code",
      "source": [
        "# Install faiss-gpu\n",
        "!pip install faiss-gpu"
      ],
      "metadata": {
        "colab": {
          "base_uri": "https://localhost:8080/"
        },
        "id": "0edXJEdDLXw5",
        "outputId": "73c51560-29a8-4a32-beca-4bfb4317746f"
      },
      "execution_count": 1,
      "outputs": [
        {
          "output_type": "stream",
          "name": "stdout",
          "text": [
            "Collecting faiss-gpu\n",
            "  Downloading faiss_gpu-1.7.2-cp310-cp310-manylinux_2_17_x86_64.manylinux2014_x86_64.whl (85.5 MB)\n",
            "\u001b[2K     \u001b[90m━━━━━━━━━━━━━━━━━━━━━━━━━━━━━━━━━━━━━━━━\u001b[0m \u001b[32m85.5/85.5 MB\u001b[0m \u001b[31m12.5 MB/s\u001b[0m eta \u001b[36m0:00:00\u001b[0m\n",
            "\u001b[?25hInstalling collected packages: faiss-gpu\n",
            "Successfully installed faiss-gpu-1.7.2\n"
          ]
        }
      ]
    },
    {
      "cell_type": "code",
      "source": [
        "!pip install sentence-transformers"
      ],
      "metadata": {
        "colab": {
          "base_uri": "https://localhost:8080/"
        },
        "id": "8gOP0jLNLpd9",
        "outputId": "3130f3cb-62ee-456e-9b79-6393a65b119f"
      },
      "execution_count": 2,
      "outputs": [
        {
          "output_type": "stream",
          "name": "stdout",
          "text": [
            "Collecting sentence-transformers\n",
            "  Downloading sentence_transformers-3.0.1-py3-none-any.whl (227 kB)\n",
            "\u001b[2K     \u001b[90m━━━━━━━━━━━━━━━━━━━━━━━━━━━━━━━━━━━━━━━━\u001b[0m \u001b[32m227.1/227.1 kB\u001b[0m \u001b[31m2.0 MB/s\u001b[0m eta \u001b[36m0:00:00\u001b[0m\n",
            "\u001b[?25hRequirement already satisfied: transformers<5.0.0,>=4.34.0 in /usr/local/lib/python3.10/dist-packages (from sentence-transformers) (4.41.2)\n",
            "Requirement already satisfied: tqdm in /usr/local/lib/python3.10/dist-packages (from sentence-transformers) (4.66.4)\n",
            "Requirement already satisfied: torch>=1.11.0 in /usr/local/lib/python3.10/dist-packages (from sentence-transformers) (2.3.0+cu121)\n",
            "Requirement already satisfied: numpy in /usr/local/lib/python3.10/dist-packages (from sentence-transformers) (1.25.2)\n",
            "Requirement already satisfied: scikit-learn in /usr/local/lib/python3.10/dist-packages (from sentence-transformers) (1.2.2)\n",
            "Requirement already satisfied: scipy in /usr/local/lib/python3.10/dist-packages (from sentence-transformers) (1.11.4)\n",
            "Requirement already satisfied: huggingface-hub>=0.15.1 in /usr/local/lib/python3.10/dist-packages (from sentence-transformers) (0.23.4)\n",
            "Requirement already satisfied: Pillow in /usr/local/lib/python3.10/dist-packages (from sentence-transformers) (9.4.0)\n",
            "Requirement already satisfied: filelock in /usr/local/lib/python3.10/dist-packages (from huggingface-hub>=0.15.1->sentence-transformers) (3.15.4)\n",
            "Requirement already satisfied: fsspec>=2023.5.0 in /usr/local/lib/python3.10/dist-packages (from huggingface-hub>=0.15.1->sentence-transformers) (2023.6.0)\n",
            "Requirement already satisfied: packaging>=20.9 in /usr/local/lib/python3.10/dist-packages (from huggingface-hub>=0.15.1->sentence-transformers) (24.1)\n",
            "Requirement already satisfied: pyyaml>=5.1 in /usr/local/lib/python3.10/dist-packages (from huggingface-hub>=0.15.1->sentence-transformers) (6.0.1)\n",
            "Requirement already satisfied: requests in /usr/local/lib/python3.10/dist-packages (from huggingface-hub>=0.15.1->sentence-transformers) (2.31.0)\n",
            "Requirement already satisfied: typing-extensions>=3.7.4.3 in /usr/local/lib/python3.10/dist-packages (from huggingface-hub>=0.15.1->sentence-transformers) (4.12.2)\n",
            "Requirement already satisfied: sympy in /usr/local/lib/python3.10/dist-packages (from torch>=1.11.0->sentence-transformers) (1.12.1)\n",
            "Requirement already satisfied: networkx in /usr/local/lib/python3.10/dist-packages (from torch>=1.11.0->sentence-transformers) (3.3)\n",
            "Requirement already satisfied: jinja2 in /usr/local/lib/python3.10/dist-packages (from torch>=1.11.0->sentence-transformers) (3.1.4)\n",
            "Collecting nvidia-cuda-nvrtc-cu12==12.1.105 (from torch>=1.11.0->sentence-transformers)\n",
            "  Using cached nvidia_cuda_nvrtc_cu12-12.1.105-py3-none-manylinux1_x86_64.whl (23.7 MB)\n",
            "Collecting nvidia-cuda-runtime-cu12==12.1.105 (from torch>=1.11.0->sentence-transformers)\n",
            "  Using cached nvidia_cuda_runtime_cu12-12.1.105-py3-none-manylinux1_x86_64.whl (823 kB)\n",
            "Collecting nvidia-cuda-cupti-cu12==12.1.105 (from torch>=1.11.0->sentence-transformers)\n",
            "  Using cached nvidia_cuda_cupti_cu12-12.1.105-py3-none-manylinux1_x86_64.whl (14.1 MB)\n",
            "Collecting nvidia-cudnn-cu12==8.9.2.26 (from torch>=1.11.0->sentence-transformers)\n",
            "  Using cached nvidia_cudnn_cu12-8.9.2.26-py3-none-manylinux1_x86_64.whl (731.7 MB)\n",
            "Collecting nvidia-cublas-cu12==12.1.3.1 (from torch>=1.11.0->sentence-transformers)\n",
            "  Using cached nvidia_cublas_cu12-12.1.3.1-py3-none-manylinux1_x86_64.whl (410.6 MB)\n",
            "Collecting nvidia-cufft-cu12==11.0.2.54 (from torch>=1.11.0->sentence-transformers)\n",
            "  Using cached nvidia_cufft_cu12-11.0.2.54-py3-none-manylinux1_x86_64.whl (121.6 MB)\n",
            "Collecting nvidia-curand-cu12==10.3.2.106 (from torch>=1.11.0->sentence-transformers)\n",
            "  Using cached nvidia_curand_cu12-10.3.2.106-py3-none-manylinux1_x86_64.whl (56.5 MB)\n",
            "Collecting nvidia-cusolver-cu12==11.4.5.107 (from torch>=1.11.0->sentence-transformers)\n",
            "  Using cached nvidia_cusolver_cu12-11.4.5.107-py3-none-manylinux1_x86_64.whl (124.2 MB)\n",
            "Collecting nvidia-cusparse-cu12==12.1.0.106 (from torch>=1.11.0->sentence-transformers)\n",
            "  Using cached nvidia_cusparse_cu12-12.1.0.106-py3-none-manylinux1_x86_64.whl (196.0 MB)\n",
            "Collecting nvidia-nccl-cu12==2.20.5 (from torch>=1.11.0->sentence-transformers)\n",
            "  Using cached nvidia_nccl_cu12-2.20.5-py3-none-manylinux2014_x86_64.whl (176.2 MB)\n",
            "Collecting nvidia-nvtx-cu12==12.1.105 (from torch>=1.11.0->sentence-transformers)\n",
            "  Using cached nvidia_nvtx_cu12-12.1.105-py3-none-manylinux1_x86_64.whl (99 kB)\n",
            "Requirement already satisfied: triton==2.3.0 in /usr/local/lib/python3.10/dist-packages (from torch>=1.11.0->sentence-transformers) (2.3.0)\n",
            "Collecting nvidia-nvjitlink-cu12 (from nvidia-cusolver-cu12==11.4.5.107->torch>=1.11.0->sentence-transformers)\n",
            "  Downloading nvidia_nvjitlink_cu12-12.5.82-py3-none-manylinux2014_x86_64.whl (21.3 MB)\n",
            "\u001b[2K     \u001b[90m━━━━━━━━━━━━━━━━━━━━━━━━━━━━━━━━━━━━━━━━\u001b[0m \u001b[32m21.3/21.3 MB\u001b[0m \u001b[31m56.0 MB/s\u001b[0m eta \u001b[36m0:00:00\u001b[0m\n",
            "\u001b[?25hRequirement already satisfied: regex!=2019.12.17 in /usr/local/lib/python3.10/dist-packages (from transformers<5.0.0,>=4.34.0->sentence-transformers) (2024.5.15)\n",
            "Requirement already satisfied: tokenizers<0.20,>=0.19 in /usr/local/lib/python3.10/dist-packages (from transformers<5.0.0,>=4.34.0->sentence-transformers) (0.19.1)\n",
            "Requirement already satisfied: safetensors>=0.4.1 in /usr/local/lib/python3.10/dist-packages (from transformers<5.0.0,>=4.34.0->sentence-transformers) (0.4.3)\n",
            "Requirement already satisfied: joblib>=1.1.1 in /usr/local/lib/python3.10/dist-packages (from scikit-learn->sentence-transformers) (1.4.2)\n",
            "Requirement already satisfied: threadpoolctl>=2.0.0 in /usr/local/lib/python3.10/dist-packages (from scikit-learn->sentence-transformers) (3.5.0)\n",
            "Requirement already satisfied: MarkupSafe>=2.0 in /usr/local/lib/python3.10/dist-packages (from jinja2->torch>=1.11.0->sentence-transformers) (2.1.5)\n",
            "Requirement already satisfied: charset-normalizer<4,>=2 in /usr/local/lib/python3.10/dist-packages (from requests->huggingface-hub>=0.15.1->sentence-transformers) (3.3.2)\n",
            "Requirement already satisfied: idna<4,>=2.5 in /usr/local/lib/python3.10/dist-packages (from requests->huggingface-hub>=0.15.1->sentence-transformers) (3.7)\n",
            "Requirement already satisfied: urllib3<3,>=1.21.1 in /usr/local/lib/python3.10/dist-packages (from requests->huggingface-hub>=0.15.1->sentence-transformers) (2.0.7)\n",
            "Requirement already satisfied: certifi>=2017.4.17 in /usr/local/lib/python3.10/dist-packages (from requests->huggingface-hub>=0.15.1->sentence-transformers) (2024.6.2)\n",
            "Requirement already satisfied: mpmath<1.4.0,>=1.1.0 in /usr/local/lib/python3.10/dist-packages (from sympy->torch>=1.11.0->sentence-transformers) (1.3.0)\n",
            "Installing collected packages: nvidia-nvtx-cu12, nvidia-nvjitlink-cu12, nvidia-nccl-cu12, nvidia-curand-cu12, nvidia-cufft-cu12, nvidia-cuda-runtime-cu12, nvidia-cuda-nvrtc-cu12, nvidia-cuda-cupti-cu12, nvidia-cublas-cu12, nvidia-cusparse-cu12, nvidia-cudnn-cu12, nvidia-cusolver-cu12, sentence-transformers\n",
            "Successfully installed nvidia-cublas-cu12-12.1.3.1 nvidia-cuda-cupti-cu12-12.1.105 nvidia-cuda-nvrtc-cu12-12.1.105 nvidia-cuda-runtime-cu12-12.1.105 nvidia-cudnn-cu12-8.9.2.26 nvidia-cufft-cu12-11.0.2.54 nvidia-curand-cu12-10.3.2.106 nvidia-cusolver-cu12-11.4.5.107 nvidia-cusparse-cu12-12.1.0.106 nvidia-nccl-cu12-2.20.5 nvidia-nvjitlink-cu12-12.5.82 nvidia-nvtx-cu12-12.1.105 sentence-transformers-3.0.1\n"
          ]
        }
      ]
    },
    {
      "cell_type": "code",
      "source": [
        "# Verify that GPU is available\n",
        "import torch\n",
        "if torch.cuda.is_available():\n",
        "    print('GPU is available.')\n",
        "else:\n",
        "    print('GPU is not available.')"
      ],
      "metadata": {
        "colab": {
          "base_uri": "https://localhost:8080/"
        },
        "id": "Wwd1J06DLP3W",
        "outputId": "a9b4e4ff-b1c0-47dd-cf14-f8d613ac7d27"
      },
      "execution_count": 9,
      "outputs": [
        {
          "output_type": "stream",
          "name": "stdout",
          "text": [
            "GPU is available.\n"
          ]
        }
      ]
    },
    {
      "cell_type": "code",
      "source": [
        "import faiss\n",
        "import pandas as pd\n",
        "import numpy as np\n",
        "from sentence_transformers import SentenceTransformer"
      ],
      "metadata": {
        "colab": {
          "base_uri": "https://localhost:8080/"
        },
        "id": "kS0jpRhAEZdB",
        "outputId": "b42cc58b-58c3-432d-be24-c62a9e8993f1"
      },
      "execution_count": 3,
      "outputs": [
        {
          "output_type": "stream",
          "name": "stderr",
          "text": [
            "/usr/local/lib/python3.10/dist-packages/sentence_transformers/cross_encoder/CrossEncoder.py:11: TqdmExperimentalWarning: Using `tqdm.autonotebook.tqdm` in notebook mode. Use `tqdm.tqdm` instead to force console mode (e.g. in jupyter console)\n",
            "  from tqdm.autonotebook import tqdm, trange\n"
          ]
        }
      ]
    },
    {
      "cell_type": "code",
      "source": [
        "df_pos = pd.read_csv(\"/content/drive/MyDrive/Colab Notebooks/FAISS/train_pos.csv\")\n",
        "df_pos.head()"
      ],
      "metadata": {
        "id": "QHewX2QYDeEc",
        "colab": {
          "base_uri": "https://localhost:8080/",
          "height": 206
        },
        "outputId": "3a0cf5cc-9a2a-4cb0-973a-b9fc7ac826e4"
      },
      "execution_count": 32,
      "outputs": [
        {
          "output_type": "execute_result",
          "data": {
            "text/plain": [
              "                                                text\n",
              "0  I am salivating for the sequels. I needed some...\n",
              "1  The many other comments about the film say it ...\n",
              "2  Now I love American Pie 1 and 2 while 3 was gr...\n",
              "3  A light, uplifting and engaging movie. Watchin...\n",
              "4  My husband and I enjoy The DoodleBops as much ..."
            ],
            "text/html": [
              "\n",
              "  <div id=\"df-e0546f8f-ec6f-43aa-b47f-8ec62235f74b\" class=\"colab-df-container\">\n",
              "    <div>\n",
              "<style scoped>\n",
              "    .dataframe tbody tr th:only-of-type {\n",
              "        vertical-align: middle;\n",
              "    }\n",
              "\n",
              "    .dataframe tbody tr th {\n",
              "        vertical-align: top;\n",
              "    }\n",
              "\n",
              "    .dataframe thead th {\n",
              "        text-align: right;\n",
              "    }\n",
              "</style>\n",
              "<table border=\"1\" class=\"dataframe\">\n",
              "  <thead>\n",
              "    <tr style=\"text-align: right;\">\n",
              "      <th></th>\n",
              "      <th>text</th>\n",
              "    </tr>\n",
              "  </thead>\n",
              "  <tbody>\n",
              "    <tr>\n",
              "      <th>0</th>\n",
              "      <td>I am salivating for the sequels. I needed some...</td>\n",
              "    </tr>\n",
              "    <tr>\n",
              "      <th>1</th>\n",
              "      <td>The many other comments about the film say it ...</td>\n",
              "    </tr>\n",
              "    <tr>\n",
              "      <th>2</th>\n",
              "      <td>Now I love American Pie 1 and 2 while 3 was gr...</td>\n",
              "    </tr>\n",
              "    <tr>\n",
              "      <th>3</th>\n",
              "      <td>A light, uplifting and engaging movie. Watchin...</td>\n",
              "    </tr>\n",
              "    <tr>\n",
              "      <th>4</th>\n",
              "      <td>My husband and I enjoy The DoodleBops as much ...</td>\n",
              "    </tr>\n",
              "  </tbody>\n",
              "</table>\n",
              "</div>\n",
              "    <div class=\"colab-df-buttons\">\n",
              "\n",
              "  <div class=\"colab-df-container\">\n",
              "    <button class=\"colab-df-convert\" onclick=\"convertToInteractive('df-e0546f8f-ec6f-43aa-b47f-8ec62235f74b')\"\n",
              "            title=\"Convert this dataframe to an interactive table.\"\n",
              "            style=\"display:none;\">\n",
              "\n",
              "  <svg xmlns=\"http://www.w3.org/2000/svg\" height=\"24px\" viewBox=\"0 -960 960 960\">\n",
              "    <path d=\"M120-120v-720h720v720H120Zm60-500h600v-160H180v160Zm220 220h160v-160H400v160Zm0 220h160v-160H400v160ZM180-400h160v-160H180v160Zm440 0h160v-160H620v160ZM180-180h160v-160H180v160Zm440 0h160v-160H620v160Z\"/>\n",
              "  </svg>\n",
              "    </button>\n",
              "\n",
              "  <style>\n",
              "    .colab-df-container {\n",
              "      display:flex;\n",
              "      gap: 12px;\n",
              "    }\n",
              "\n",
              "    .colab-df-convert {\n",
              "      background-color: #E8F0FE;\n",
              "      border: none;\n",
              "      border-radius: 50%;\n",
              "      cursor: pointer;\n",
              "      display: none;\n",
              "      fill: #1967D2;\n",
              "      height: 32px;\n",
              "      padding: 0 0 0 0;\n",
              "      width: 32px;\n",
              "    }\n",
              "\n",
              "    .colab-df-convert:hover {\n",
              "      background-color: #E2EBFA;\n",
              "      box-shadow: 0px 1px 2px rgba(60, 64, 67, 0.3), 0px 1px 3px 1px rgba(60, 64, 67, 0.15);\n",
              "      fill: #174EA6;\n",
              "    }\n",
              "\n",
              "    .colab-df-buttons div {\n",
              "      margin-bottom: 4px;\n",
              "    }\n",
              "\n",
              "    [theme=dark] .colab-df-convert {\n",
              "      background-color: #3B4455;\n",
              "      fill: #D2E3FC;\n",
              "    }\n",
              "\n",
              "    [theme=dark] .colab-df-convert:hover {\n",
              "      background-color: #434B5C;\n",
              "      box-shadow: 0px 1px 3px 1px rgba(0, 0, 0, 0.15);\n",
              "      filter: drop-shadow(0px 1px 2px rgba(0, 0, 0, 0.3));\n",
              "      fill: #FFFFFF;\n",
              "    }\n",
              "  </style>\n",
              "\n",
              "    <script>\n",
              "      const buttonEl =\n",
              "        document.querySelector('#df-e0546f8f-ec6f-43aa-b47f-8ec62235f74b button.colab-df-convert');\n",
              "      buttonEl.style.display =\n",
              "        google.colab.kernel.accessAllowed ? 'block' : 'none';\n",
              "\n",
              "      async function convertToInteractive(key) {\n",
              "        const element = document.querySelector('#df-e0546f8f-ec6f-43aa-b47f-8ec62235f74b');\n",
              "        const dataTable =\n",
              "          await google.colab.kernel.invokeFunction('convertToInteractive',\n",
              "                                                    [key], {});\n",
              "        if (!dataTable) return;\n",
              "\n",
              "        const docLinkHtml = 'Like what you see? Visit the ' +\n",
              "          '<a target=\"_blank\" href=https://colab.research.google.com/notebooks/data_table.ipynb>data table notebook</a>'\n",
              "          + ' to learn more about interactive tables.';\n",
              "        element.innerHTML = '';\n",
              "        dataTable['output_type'] = 'display_data';\n",
              "        await google.colab.output.renderOutput(dataTable, element);\n",
              "        const docLink = document.createElement('div');\n",
              "        docLink.innerHTML = docLinkHtml;\n",
              "        element.appendChild(docLink);\n",
              "      }\n",
              "    </script>\n",
              "  </div>\n",
              "\n",
              "\n",
              "<div id=\"df-5fbb8dbe-8dd8-41a6-bb26-4c18954814bf\">\n",
              "  <button class=\"colab-df-quickchart\" onclick=\"quickchart('df-5fbb8dbe-8dd8-41a6-bb26-4c18954814bf')\"\n",
              "            title=\"Suggest charts\"\n",
              "            style=\"display:none;\">\n",
              "\n",
              "<svg xmlns=\"http://www.w3.org/2000/svg\" height=\"24px\"viewBox=\"0 0 24 24\"\n",
              "     width=\"24px\">\n",
              "    <g>\n",
              "        <path d=\"M19 3H5c-1.1 0-2 .9-2 2v14c0 1.1.9 2 2 2h14c1.1 0 2-.9 2-2V5c0-1.1-.9-2-2-2zM9 17H7v-7h2v7zm4 0h-2V7h2v10zm4 0h-2v-4h2v4z\"/>\n",
              "    </g>\n",
              "</svg>\n",
              "  </button>\n",
              "\n",
              "<style>\n",
              "  .colab-df-quickchart {\n",
              "      --bg-color: #E8F0FE;\n",
              "      --fill-color: #1967D2;\n",
              "      --hover-bg-color: #E2EBFA;\n",
              "      --hover-fill-color: #174EA6;\n",
              "      --disabled-fill-color: #AAA;\n",
              "      --disabled-bg-color: #DDD;\n",
              "  }\n",
              "\n",
              "  [theme=dark] .colab-df-quickchart {\n",
              "      --bg-color: #3B4455;\n",
              "      --fill-color: #D2E3FC;\n",
              "      --hover-bg-color: #434B5C;\n",
              "      --hover-fill-color: #FFFFFF;\n",
              "      --disabled-bg-color: #3B4455;\n",
              "      --disabled-fill-color: #666;\n",
              "  }\n",
              "\n",
              "  .colab-df-quickchart {\n",
              "    background-color: var(--bg-color);\n",
              "    border: none;\n",
              "    border-radius: 50%;\n",
              "    cursor: pointer;\n",
              "    display: none;\n",
              "    fill: var(--fill-color);\n",
              "    height: 32px;\n",
              "    padding: 0;\n",
              "    width: 32px;\n",
              "  }\n",
              "\n",
              "  .colab-df-quickchart:hover {\n",
              "    background-color: var(--hover-bg-color);\n",
              "    box-shadow: 0 1px 2px rgba(60, 64, 67, 0.3), 0 1px 3px 1px rgba(60, 64, 67, 0.15);\n",
              "    fill: var(--button-hover-fill-color);\n",
              "  }\n",
              "\n",
              "  .colab-df-quickchart-complete:disabled,\n",
              "  .colab-df-quickchart-complete:disabled:hover {\n",
              "    background-color: var(--disabled-bg-color);\n",
              "    fill: var(--disabled-fill-color);\n",
              "    box-shadow: none;\n",
              "  }\n",
              "\n",
              "  .colab-df-spinner {\n",
              "    border: 2px solid var(--fill-color);\n",
              "    border-color: transparent;\n",
              "    border-bottom-color: var(--fill-color);\n",
              "    animation:\n",
              "      spin 1s steps(1) infinite;\n",
              "  }\n",
              "\n",
              "  @keyframes spin {\n",
              "    0% {\n",
              "      border-color: transparent;\n",
              "      border-bottom-color: var(--fill-color);\n",
              "      border-left-color: var(--fill-color);\n",
              "    }\n",
              "    20% {\n",
              "      border-color: transparent;\n",
              "      border-left-color: var(--fill-color);\n",
              "      border-top-color: var(--fill-color);\n",
              "    }\n",
              "    30% {\n",
              "      border-color: transparent;\n",
              "      border-left-color: var(--fill-color);\n",
              "      border-top-color: var(--fill-color);\n",
              "      border-right-color: var(--fill-color);\n",
              "    }\n",
              "    40% {\n",
              "      border-color: transparent;\n",
              "      border-right-color: var(--fill-color);\n",
              "      border-top-color: var(--fill-color);\n",
              "    }\n",
              "    60% {\n",
              "      border-color: transparent;\n",
              "      border-right-color: var(--fill-color);\n",
              "    }\n",
              "    80% {\n",
              "      border-color: transparent;\n",
              "      border-right-color: var(--fill-color);\n",
              "      border-bottom-color: var(--fill-color);\n",
              "    }\n",
              "    90% {\n",
              "      border-color: transparent;\n",
              "      border-bottom-color: var(--fill-color);\n",
              "    }\n",
              "  }\n",
              "</style>\n",
              "\n",
              "  <script>\n",
              "    async function quickchart(key) {\n",
              "      const quickchartButtonEl =\n",
              "        document.querySelector('#' + key + ' button');\n",
              "      quickchartButtonEl.disabled = true;  // To prevent multiple clicks.\n",
              "      quickchartButtonEl.classList.add('colab-df-spinner');\n",
              "      try {\n",
              "        const charts = await google.colab.kernel.invokeFunction(\n",
              "            'suggestCharts', [key], {});\n",
              "      } catch (error) {\n",
              "        console.error('Error during call to suggestCharts:', error);\n",
              "      }\n",
              "      quickchartButtonEl.classList.remove('colab-df-spinner');\n",
              "      quickchartButtonEl.classList.add('colab-df-quickchart-complete');\n",
              "    }\n",
              "    (() => {\n",
              "      let quickchartButtonEl =\n",
              "        document.querySelector('#df-5fbb8dbe-8dd8-41a6-bb26-4c18954814bf button');\n",
              "      quickchartButtonEl.style.display =\n",
              "        google.colab.kernel.accessAllowed ? 'block' : 'none';\n",
              "    })();\n",
              "  </script>\n",
              "</div>\n",
              "\n",
              "    </div>\n",
              "  </div>\n"
            ],
            "application/vnd.google.colaboratory.intrinsic+json": {
              "type": "dataframe",
              "variable_name": "df_pos",
              "summary": "{\n  \"name\": \"df_pos\",\n  \"rows\": 12500,\n  \"fields\": [\n    {\n      \"column\": \"text\",\n      \"properties\": {\n        \"dtype\": \"string\",\n        \"num_unique_values\": 12470,\n        \"samples\": [\n          \"A team varied between Scully and Mulder, two other scientists, a pilot, and the guy who plays Bana on Seinfeld, go up to an Arctic research post where all members have died off by either killing each other or killing themselves. They discover there's a worm- a virus- that is parasitic to the point of madness and death. The problem is, after a certain dog lashes out, anyone could be infected, but who? This is not just my favorite episode of season 1, but also one of my favorites from the show. The Arctic environment encloses the characters and, of course like Carpenter's the Thing, it's a lot of fun watching these even-tempered characters suddenly start to flip out in dramatic scenes. And the visual effects of the worm and its effects under the skin are cheesy, I didn't mind them at all. The drama between the characters ends up working more than it would usually because of the tension and because all of the actors (including the Bana guy) understand what's going on in the story. And, as usual, I loved the ambiguity of the ending. Highly recommended.\",\n          \"Rating: 7 out of 10. Directed by Barbet Schroeder. If you like Hitchcock's `Rope', then you will like this movie. `Murder by Numbers' stars Sandra Bullock as psychologically troubled yet brilliant police detective Cassie Mayweather. Her partner is Sam Kennedy, a non-discriminatory detective played by Ben Chaplin. The teenage killers are high school students Richard Haywood (Ryan Gosling) and Justin Pendleton (Michael Pitt). These young psychotics are out to prove their superiority by committing the perfect murder and getting away with it, but the nearness of capture is exciting and thrilling to at least one of the killers.The supporting characters include a police chief, an assistant district attorney, and the high school janitor that the killers pin the murder on. The movie reminds me of various `Hitchcock' movies crossed with the TV show `Law and Order'. We see a fair bit of police work and it is really interesting to see which clues the detectives follow and which ones they don't.The other plot in the movie relates to Cassie Mayweather's past and incarcerated ex-husband. Most viewers found this aspect of the movie unnecessary and slow moving, but I found this to the most intriguing part of the story.`Murder by Numbers' is a nicely crafted movie if you are looking for safe, or should I say dangerous, murder mystery. For more thrills and suspense, try `Se7en' or Hitchcock's `Dial M for Murder'.\",\n          \"I loved this show when it aired on television and was crushed when I found out that someone somewhere decided that it wasn't worthy of being continued! For years I hung onto my copies of this show, ones that I had taped or had someone tape for me. That is until now. The powers that be finally decided to release this beautiful series on DVD and I finally was able to get my eager little hands on the complete set. Which, brings me to this part; the part about that this show is all about.American Gothic is about good verses evil, basically a struggle between Lucas Buck (that is Buck, with a B). He is an evil sheriff of a South Carolina small town that runs things the way he wants things to be ran and stops at nothing to get his way.I felt the show was wonderfully written and directed and had lots of life left yet to be lived. I really hated when it was canceled, but that is the way it seems to go for me when I finally find something worth watching on television.Gary Cole did a great job as the role of Sheriff Lucas Buck, he has just the right amount of charm verses evil to pull it off. The other actors did a super job as well, so I guess you could say, even the casting was a hit with me.\"\n        ],\n        \"semantic_type\": \"\",\n        \"description\": \"\"\n      }\n    }\n  ]\n}"
            }
          },
          "metadata": {},
          "execution_count": 32
        }
      ]
    },
    {
      "cell_type": "code",
      "source": [
        "len(df_pos)"
      ],
      "metadata": {
        "colab": {
          "base_uri": "https://localhost:8080/"
        },
        "id": "ovfuLbTMLf77",
        "outputId": "c1de2f37-2c72-4325-a556-89609ebcaec9"
      },
      "execution_count": 33,
      "outputs": [
        {
          "output_type": "execute_result",
          "data": {
            "text/plain": [
              "12500"
            ]
          },
          "metadata": {},
          "execution_count": 33
        }
      ]
    },
    {
      "cell_type": "code",
      "source": [
        "reviews = df_pos['text'].to_list()\n",
        "# initialize sentence tSentenceTransformer model\n",
        "model = SentenceTransformer(\"bert-base-nli-mean-tokens\") #one vector per review\n",
        "# create sentence embbeddings, one vecter per sentence sample like Doc2Vec\n",
        "review_embeddings = model.encode(reviews)\n",
        "review_embeddings.shape"
      ],
      "metadata": {
        "colab": {
          "base_uri": "https://localhost:8080/"
        },
        "id": "3YlUF-HVGe-e",
        "outputId": "2e4e26b0-6c3d-4d6b-d002-e6f0e3e70b65"
      },
      "execution_count": 34,
      "outputs": [
        {
          "output_type": "stream",
          "name": "stderr",
          "text": [
            "/usr/local/lib/python3.10/dist-packages/huggingface_hub/file_download.py:1132: FutureWarning: `resume_download` is deprecated and will be removed in version 1.0.0. Downloads always resume when possible. If you want to force a new download, use `force_download=True`.\n",
            "  warnings.warn(\n"
          ]
        },
        {
          "output_type": "execute_result",
          "data": {
            "text/plain": [
              "(12500, 768)"
            ]
          },
          "metadata": {},
          "execution_count": 34
        }
      ]
    },
    {
      "cell_type": "code",
      "source": [
        "# get dimension of the embedding single\n",
        "d = review_embeddings.shape[1] # 768, vector length\n",
        "nlist = 50 # ANN how many cell we want to split"
      ],
      "metadata": {
        "id": "VFucpxjFL0B3"
      },
      "execution_count": 35,
      "outputs": []
    },
    {
      "cell_type": "code",
      "source": [
        "# using the L2 index as a quantizer step\n",
        "quantizer = faiss.IndexFlatL2(d)\n",
        "\n",
        "#IVF reduces the scope to search，can use faiss.IndexIVFPQ to further speed up\n",
        "index = faiss.IndexIVFFlat(quantizer, d, nlist)\n",
        "\n",
        "# Train the index\n",
        "index.train(review_embeddings)\n",
        "\n",
        "# Add vectors to the index\n",
        "index.add(review_embeddings) # add indices"
      ],
      "metadata": {
        "id": "PEW_gAOCJ7Gq"
      },
      "execution_count": 37,
      "outputs": []
    },
    {
      "cell_type": "code",
      "source": [
        "# use reviews[10] as the query\n",
        "query = reviews[10]\n",
        "query_embedding = model.encode([reviews[10]]) # use reviews[10] as the query\n",
        "print(\"Query is: \", query)"
      ],
      "metadata": {
        "colab": {
          "base_uri": "https://localhost:8080/"
        },
        "id": "6coyTp4zNfJU",
        "outputId": "ccf23d01-ff0f-477f-a528-df1b3c7adfa0"
      },
      "execution_count": 39,
      "outputs": [
        {
          "output_type": "stream",
          "name": "stdout",
          "text": [
            "Query is:  Emilio Miraglio's \"The Red Queen Kills Seven Times\" (1972) is just about the most perfect example of a giallo that I have ever seen, mixing all the requisite elements into one sinister stew indeed. First of all, and of paramount importance for me, it has a complex, twisty plot that ultimately makes perfect sense, and the killer here does not come completely out of left field at the end. The story, concerning a series of gruesome murders (you already know how many from the film's title, right?) that takes place in seeming fulfillment of an ancient prophecy concerning two sisters, is an involving one, and the murderer, a red-cloaked figure with the insane laugh of a madwoman, is both frightening and memorable. Every great giallo requires some lovely lead actresses, and here we have quite an assortment, headed by the ridiculously beautiful Barbara Bouchet as one of the two sisters and, in one of her earlier roles, Sybil Danning, as a lustful tramp at Barbara's fashion house. Another necessary ingredient of a superior giallo is a catchy, hummable score, and Bruno Nicolai provides one for this film that should stay with you for days. Gorgeous scenery? Check again. Filmed largely in Wurzburg, Germany, the picture is a treat for the eye indeed. OK, OK, but what about those murders? After all, isn't that what gialli are all about? Well, I'm pleased to report that most viewers should be well satisfied with the various knifings, shootings, impalements and other carnage that this film tastefully dishes out...not to mention the crypts, freaky dream sequence, rats and bats (and LOTS of 'em, too!), the drug references, a rape scene, the obligatory red herrings and, in the person of Ugo Pagliai, a hunky leading man for the female viewers. As I said, a perfect giallo. And even better, this DVD is from the fine folks at No Shame, and you know what that means: a gorgeous print and loads of extras, to boot! Thanks, guys!\n"
          ]
        }
      ]
    },
    {
      "cell_type": "code",
      "source": [
        "k = 6 # search for top 6 similar reviews, but the first one would be the query itself\n",
        "xq = model.encode([reviews[10]]) # use reviews[10] as the query\n",
        "print(reviews[10])\n",
        "D, I = index.search(xq, k)"
      ],
      "metadata": {
        "id": "qmOTrIkWNfGv"
      },
      "execution_count": null,
      "outputs": []
    },
    {
      "cell_type": "code",
      "source": [
        "# Perform a k-nearest neighbor search\n",
        "k = 6  # Number of nearest neighbors to retrieve\n",
        "distances, indices = index.search(query_embedding.reshape(1, -1), k)\n",
        "\n",
        "# Print the most similar reviews\n",
        "print(f\"Query: {query}\", \"\\n\")\n",
        "for i, idx in enumerate(indices[0]):\n",
        "    print(f\"Similar review {i+1}: {reviews[idx]}\")\n",
        "    print(f\"Distance: {distances[0][i]}\")\n",
        "    print(\"\\n\")\n",
        "#距离越小越相似"
      ],
      "metadata": {
        "colab": {
          "base_uri": "https://localhost:8080/"
        },
        "id": "SZh1ePmDNfD6",
        "outputId": "a6264405-e2fd-4929-ae2c-136f26622b24"
      },
      "execution_count": 45,
      "outputs": [
        {
          "output_type": "stream",
          "name": "stdout",
          "text": [
            "Query: Emilio Miraglio's \"The Red Queen Kills Seven Times\" (1972) is just about the most perfect example of a giallo that I have ever seen, mixing all the requisite elements into one sinister stew indeed. First of all, and of paramount importance for me, it has a complex, twisty plot that ultimately makes perfect sense, and the killer here does not come completely out of left field at the end. The story, concerning a series of gruesome murders (you already know how many from the film's title, right?) that takes place in seeming fulfillment of an ancient prophecy concerning two sisters, is an involving one, and the murderer, a red-cloaked figure with the insane laugh of a madwoman, is both frightening and memorable. Every great giallo requires some lovely lead actresses, and here we have quite an assortment, headed by the ridiculously beautiful Barbara Bouchet as one of the two sisters and, in one of her earlier roles, Sybil Danning, as a lustful tramp at Barbara's fashion house. Another necessary ingredient of a superior giallo is a catchy, hummable score, and Bruno Nicolai provides one for this film that should stay with you for days. Gorgeous scenery? Check again. Filmed largely in Wurzburg, Germany, the picture is a treat for the eye indeed. OK, OK, but what about those murders? After all, isn't that what gialli are all about? Well, I'm pleased to report that most viewers should be well satisfied with the various knifings, shootings, impalements and other carnage that this film tastefully dishes out...not to mention the crypts, freaky dream sequence, rats and bats (and LOTS of 'em, too!), the drug references, a rape scene, the obligatory red herrings and, in the person of Ugo Pagliai, a hunky leading man for the female viewers. As I said, a perfect giallo. And even better, this DVD is from the fine folks at No Shame, and you know what that means: a gorgeous print and loads of extras, to boot! Thanks, guys! \n",
            "\n",
            "Similar review 1: Emilio Miraglio's \"The Red Queen Kills Seven Times\" (1972) is just about the most perfect example of a giallo that I have ever seen, mixing all the requisite elements into one sinister stew indeed. First of all, and of paramount importance for me, it has a complex, twisty plot that ultimately makes perfect sense, and the killer here does not come completely out of left field at the end. The story, concerning a series of gruesome murders (you already know how many from the film's title, right?) that takes place in seeming fulfillment of an ancient prophecy concerning two sisters, is an involving one, and the murderer, a red-cloaked figure with the insane laugh of a madwoman, is both frightening and memorable. Every great giallo requires some lovely lead actresses, and here we have quite an assortment, headed by the ridiculously beautiful Barbara Bouchet as one of the two sisters and, in one of her earlier roles, Sybil Danning, as a lustful tramp at Barbara's fashion house. Another necessary ingredient of a superior giallo is a catchy, hummable score, and Bruno Nicolai provides one for this film that should stay with you for days. Gorgeous scenery? Check again. Filmed largely in Wurzburg, Germany, the picture is a treat for the eye indeed. OK, OK, but what about those murders? After all, isn't that what gialli are all about? Well, I'm pleased to report that most viewers should be well satisfied with the various knifings, shootings, impalements and other carnage that this film tastefully dishes out...not to mention the crypts, freaky dream sequence, rats and bats (and LOTS of 'em, too!), the drug references, a rape scene, the obligatory red herrings and, in the person of Ugo Pagliai, a hunky leading man for the female viewers. As I said, a perfect giallo. And even better, this DVD is from the fine folks at No Shame, and you know what that means: a gorgeous print and loads of extras, to boot! Thanks, guys!\n",
            "Distance: 7.320835604396336e-11\n",
            "\n",
            "\n",
            "Similar review 2: There are some films that every Horror fan owes himself (or herself) to see, and Emilio Miraglia's \"La Dama Rossa Uccide Sette Volte\" aka. \"The Red Queen Kills Seven Times\" (1972) is definitely one of them. With Gialli and Gothic Tales being my two favorite sub-genres in Horror, I was looking forward to seeing this film for quite a while, and even though my expectations were high, this masterpiece surpassed my greatest hopes. Miraglia's earlier Giallo, \"The Night Evelyn Came Out of the Grave\" (1971) was already a creepy and highly atmospheric film which successfully mixed Giallo with Gothic Horror, but it couldn't possibly compare to this instant personal favorite. \"The Red Queen Kills Seven Times\" is, hands down, one of the most unique and overwhelming Italian Horror films ever made, and no lover of the genre could possibly consider missing it. An incredibly mesmerizing Giallo with strong Gothic elements, \"The Red Queen\" delivers everything one could hope for in either sub-genre: An inventive and incredibly compelling plot, spine-chilling suspense, a sublimely uncanny setting and a genuinely creepy atmosphere, eerily lush colors, stylish murders, a brilliant score, and, not least, a ravishing female cast lead by the stunningly beautiful Barbara Bouchet - this film simply is one of the most outstanding combinations of elegant beauty and pure terror.The film starts out incredibly in a beautiful Gothic castle in Germany. As little girls, Kitty Wildenbrück and her sister Evelyn have been fighting when their grandfather tells them the story behind an incredibly uncanny painting: Legend has it that a fiendish Red Lady is to return to the castle every hundred years and kill seven people. Fourteen years later, Kitty (Barbara Bouchet) has become a successful fashion photographer. Suddenly, people begin to get murdered... Director Miraglia had already proved his incredible talent for style, atmosphere and colorful creepiness with \"The Night Evelyn Came Out of the Grave\" and he makes use of these elements even far more effectively in this gem. \"The Red Queen Kills Seven Times\" is a feast for the eyes indeed, and one of the most overwhelming Italian Horror films both visually and plot-wise. The haunting painting in the Grandfather's castle alone is capable of giving the viewer the goosebumps. The Red Lady (or Red Queen, as she is called in the English title) is arguably the most fiendish figure ever in a Giallo, the spine-chilling laughter that the murders are accompanied by would even be frightening on its own. A sexy female cast is always appreciated, especially in a Giallo, and this one is a prime example for that. The ravishing Barbara Bouchet (one of my favorite actresses) must be one of the most stunningly beautiful ladies ever to appear on screen, and she is a great actress too. Bouchet's presence has graded up many Italian flicks, among other appearances she starred in three of the greatest Cult-masterpieces of Italian 70s cinema within one year (1972): Fernando Di Leo's \"Milano Calibro 9\", Lucio Fulci's Giallo-highlight \"Don't Torture a Duckling\" and this unforgettable gem. Apart from the wonderful Miss Bouchet, the film's gorgeous female cast includes sexy young Sybil Danning, Marina Malfatti (\"The Night Evelyn Came Out of the Grave\"), and other beauties who are not afraid to bare it for the camera. As the whole film, the murders are stylish and extremely elegant, yet frightening and macabre, and some of them are quite gory. Bruno Nicolai's mesmerizing score is as memorable as it gets, and makes the film's intensely eerie atmosphere even more haunting. The plot is ingeniously convoluted and full of red herrings, the tension-level increses with each passing minute. \"The Red Queen...\" begins creepy and it stays stunning to the last second. Overall, this is one of the films that I cannot find enough words of praise for. \"The Red Queen Kills Seven Times\" is an absolute masterpiece that easily ranks among the finest Gialli ever made, and a top-priority for every fan of Horror and/or Italian cinema to see. 10/10\n",
            "Distance: 67.877197265625\n",
            "\n",
            "\n",
            "Similar review 3: An excellent period murder melodrama, with Fontaine effectively playing against her earlier naive wallflower type, in a role that reportedly Olivia DeHavilland turned down. That's fine, because Fontaine is wonderful. Scripted by Charles Bennett, who had written for Hitchcock in the thirties and also later penned the excellent script for the classic British horror film Night of the Demon. The opening scene, where Ivy visits a sinister fortune teller played by the wonderful Una O'Connor (the screecher of James Whale fame), is a tour de force, and the film maintains interest throughout the numerous sinister machinations. I hope to see this film on DVD someday, but despair of that ever happening, because it seems to be an undeservedly obscure film. Fortunately I got to see it on AMC some seven or eight years ago, but have not seen since. Catch it if you can!\n",
            "Distance: 77.36846923828125\n",
            "\n",
            "\n",
            "Similar review 4: L'OSSESSA, also known as THE TORMENTED or THE SEXORCIST, or the ridiculously titled THE EERIE MIDNIGHT HORROR SHOW, is a forgotten EXORCIST rip-off which contains one of the best horror moments I've ever seen. The scene is when the crucifix comes alive. This great spooky scene is unforgettable and totally effective (great FXs). It's a shame the rest of the movie doesn't maintain the level of creepiness exemplified during that scene.This is one of the most frustrating movies ever. Imagine the producers deciding to to make an EXORCIST copy but while making it, they actually succeed in creating something truly original (a possessed sculpture of crucified man, which is shocking when you think about it) but then completely forgets their original idea in order to make a boring and uninspired EXORCIST rip-off. Had the film continued with the possessed sculpture concept (with the characters trying to destroy it, etc), this film would have rocked. But once the girl becomes possessed by the spirit of the sculpture, she never tells anyone from where the demon came from. She, and the script, completely forgets the haunted crucifix, which is STUPID!!!If you like so-called \"Euro-cult\" movies, the first 45 minutes deliver unlike any other Euro-cult movies. But after the scene when the girl has a vision of being crucified and she gets stigmatas, the remaining 45 minutes SUCK. Boring. It goes nowhere fast as it tries to emulate (badly) THE EXORCIST. So, watch the first 45 minutes of L'OSSESSA and enjoy the 1970s fashions, the sleaze and the amazing statue-comes-alive-to-ravish-the-girl scene but after the first 45 minutes, press stop and eject, and might as well go clip your toenails.\n",
            "Distance: 78.36599731445312\n",
            "\n",
            "\n",
            "Similar review 5: This film is one of the best of all time, certainly in the horror genre. The claustrophobic atmosphere is outstanding, the music is just as good as the film and the killer is as creepy as can be! Actors are fantastic, RIP Donald Pleasance you were fantastic as Dr Loomis, he made the film even better. Without him the film would be missing a vital ingredient. Jamie Lee Curtis is also superb as our beloved scream queen! Her innocence makes her unaware of the real evil that is after her until she finds her friends grossly murdered in the house, which of course is one of the films best scenes. She gives a tremendous performance. I loved this film since it scared me like hell back when I seen it in the very early 80's and I still watch it to this day as it is a marvellous movie that just brings you in to this world were you could be gutted like a fish at every turn! The fact that it is a simple format of a mad man in a mask whom has escaped from a mental asylum and ready to kill everyone in sight without them having any idea that he is there, is just shockingly terrifying and indulges you even more into the movie as the events though fiction could easily be come true. We all know that unfortunately evil does exist in this world and a mad man with a knife is certainly not uncommon, a very disturbing an deep fear for all of this. Death at any turn. Halloween of course shows this in it's most terrifying way. Horror should be believable, and that is what makes the film enjoyable. It's just a simple story that is made into an excellent and terrifying atmosphere. As well as Psycho's superb storyline, both of which I adore, I believe there formats are the best horror has to offer. To me Halloween and Psycho are the best films I have ever seen and I will watch them all my life and never grow tired of them. Halloween is undoubtedly one of the best movies of all time.\n",
            "Distance: 78.42743682861328\n",
            "\n",
            "\n",
            "Similar review 6: I love occult Horror, and the great British Hammer Studios, who delivered one of their greatest films with \"The Devil Rides Out\" (1968), have proved to be more than capable in this field of Horror. This occult tenth episode of Hammer's short running TV-series \"Hammer House of Horror\" (1980), \"Guardian of the Abyss\", is indeed a creepy entry to the series. Director Don Sharp, who had previously enriched the Hammer oeuvre with \"The Kiss of the Vampire\" (1963) and \"Rasputin: The Mad Monk\" (1966) and furthermore directed two \"Fu Machu\" movies starring Christopher Lee, is doubtlessly one of the better-known names among the HHH directors, and he also delivers here. Antiques dealer Michael (Ray Lonnen) stumbles over a mysterious old scrying glass. The scrying glass happens to be the object of desire of a devil-worshiping cult, who want to use it for their satanic rites. When he shelters a beautiful young girl named Allison (Rosalyn Landor), who is to be sacrificed by the cult, Michael gets into deeper trouble with the cult and their sinister leader (John Carson)... While this is not one of my absolute favorite episodes of \"Hammer House of Horror\" (the best one clearly is the brilliant seventh episode, \"The Silent Scream\"), it is a very creepy and atmospheric one. The plot has several interesting twists, and stays suspenseful and uncanny throughout the film. Ray Lonnen makes a good lead, young Rosalyin Landor is convincing as the innocent beauty, and John Carson is truly creepy as the leader of the Satanists. Overall, \"Guardian of the Abyss\" is another interesting and creepy HHH tale, and my fellow Hammer fans should not miss it.\n",
            "Distance: 80.02153015136719\n",
            "\n",
            "\n"
          ]
        }
      ]
    },
    {
      "cell_type": "code",
      "source": [],
      "metadata": {
        "id": "roAohDmhNfBK"
      },
      "execution_count": null,
      "outputs": []
    },
    {
      "cell_type": "code",
      "source": [
        "# 一个例子"
      ],
      "metadata": {
        "id": "HSIGsDXZNe6J"
      },
      "execution_count": 28,
      "outputs": []
    },
    {
      "cell_type": "code",
      "source": [
        "# Example data\n",
        "data = {'text': ['I am so happy.', 'Today is raining.', 'He is a school teacher.']}\n",
        "df_pos = pd.DataFrame(data)\n",
        "\n",
        "# Extract reviews from DataFrame\n",
        "reviews = df_pos['text'].tolist()\n",
        "\n",
        "# Initialize SentenceTransformer model\n",
        "model = SentenceTransformer(\"bert-base-nli-mean-tokens\")\n",
        "\n",
        "# Create sentence embeddings\n",
        "review_embeddings = model.encode(reviews)\n",
        "\n",
        "# Shape of embeddings\n",
        "print(\"Shape of review embeddings:\", review_embeddings.shape)"
      ],
      "metadata": {
        "colab": {
          "base_uri": "https://localhost:8080/"
        },
        "id": "m_1GejqsLqEG",
        "outputId": "69b197d6-1d6c-4db9-c3b0-08ee9a2d1b04"
      },
      "execution_count": 46,
      "outputs": [
        {
          "output_type": "stream",
          "name": "stderr",
          "text": [
            "/usr/local/lib/python3.10/dist-packages/huggingface_hub/file_download.py:1132: FutureWarning: `resume_download` is deprecated and will be removed in version 1.0.0. Downloads always resume when possible. If you want to force a new download, use `force_download=True`.\n",
            "  warnings.warn(\n"
          ]
        },
        {
          "output_type": "stream",
          "name": "stdout",
          "text": [
            "Shape of review embeddings: (3, 768)\n"
          ]
        }
      ]
    },
    {
      "cell_type": "code",
      "source": [
        "# Setup Faiss for similarity search\n",
        "d = review_embeddings.shape[1]\n",
        "nlist = 3  # Number of clusters\n",
        "quantizer = faiss.IndexFlatL2(d)  # L2 distance quantizer\n",
        "index = faiss.IndexIVFFlat(quantizer, d, nlist)  # IVF index\n",
        "\n",
        "# Optional: Use Product Quantization for even more speed-up (commented out)\n",
        "# M = 8  # Number of subquantizers\n",
        "# nbits = 8  # Number of bits per subvector\n",
        "# index = faiss.IndexIVFPQ(quantizer, d, nlist, M, nbits)\n",
        "\n",
        "# Train the index\n",
        "index.train(review_embeddings)\n",
        "\n",
        "# Add vectors to the index\n",
        "index.add(review_embeddings)"
      ],
      "metadata": {
        "id": "obud1EFjLupD"
      },
      "execution_count": 58,
      "outputs": []
    },
    {
      "cell_type": "code",
      "source": [
        "# Example query to find similar reviews\n",
        "query = \"My day is good.\"\n",
        "query_embedding = model.encode([query])[0]"
      ],
      "metadata": {
        "id": "5uFqSVw-MA02"
      },
      "execution_count": 59,
      "outputs": []
    },
    {
      "cell_type": "code",
      "source": [
        "print(len(query_embedding))\n",
        "print(query_embedding.shape)"
      ],
      "metadata": {
        "colab": {
          "base_uri": "https://localhost:8080/"
        },
        "id": "ptoqWNRDMVj6",
        "outputId": "f0862c88-3ee7-4755-8bc1-b353f5592238"
      },
      "execution_count": 60,
      "outputs": [
        {
          "output_type": "stream",
          "name": "stdout",
          "text": [
            "768\n",
            "(768,)\n"
          ]
        }
      ]
    },
    {
      "cell_type": "code",
      "source": [
        "\n",
        "print(len(query_embedding.reshape(1, -1)))\n",
        "print(query_embedding.reshape(1, -1).shape)"
      ],
      "metadata": {
        "colab": {
          "base_uri": "https://localhost:8080/"
        },
        "id": "TcYnDbqjMtMh",
        "outputId": "072411e1-965d-49c1-b985-8321bca5ffee"
      },
      "execution_count": 61,
      "outputs": [
        {
          "output_type": "stream",
          "name": "stdout",
          "text": [
            "1\n",
            "(1, 768)\n"
          ]
        }
      ]
    },
    {
      "cell_type": "code",
      "source": [
        "# Perform a k-nearest neighbor search\n",
        "k = 2  # Number of nearest neighbors to retrieve\n",
        "distances, indices = index.search(query_embedding.reshape(1, -1), k)\n",
        "\n",
        "# Print the most similar reviews\n",
        "print(f\"Query: {query}\")\n",
        "for i, idx in enumerate(indices[0]):\n",
        "    print(f\"Similar review {i+1}: {reviews[idx]}\")\n",
        "    print(f\"Distance: {distances[0][i]}\")\n",
        "    print('\\n')"
      ],
      "metadata": {
        "colab": {
          "base_uri": "https://localhost:8080/"
        },
        "id": "yhJt8_M8MYTa",
        "outputId": "35922492-287b-4ebe-8505-5af542b82d07"
      },
      "execution_count": 62,
      "outputs": [
        {
          "output_type": "stream",
          "name": "stdout",
          "text": [
            "Query: My day is good.\n",
            "Similar review 1: I am so happy.\n",
            "Distance: 90.68080139160156\n",
            "\n",
            "\n",
            "Similar review 2: He is a school teacher.\n",
            "Distance: 3.4028234663852886e+38\n",
            "\n",
            "\n"
          ]
        }
      ]
    },
    {
      "cell_type": "code",
      "source": [],
      "metadata": {
        "id": "zyFb0KMWMy4H"
      },
      "execution_count": null,
      "outputs": []
    }
  ]
}